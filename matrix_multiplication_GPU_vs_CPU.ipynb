{
  "nbformat": 4,
  "nbformat_minor": 0,
  "metadata": {
    "colab": {
      "name": "matrix_multiplication_GPU_vs_CPU.ipynb",
      "provenance": [],
      "collapsed_sections": [],
      "authorship_tag": "ABX9TyMRT3YCFxYT3yrlQJ1az6cM",
      "include_colab_link": true
    },
    "kernelspec": {
      "name": "python3",
      "display_name": "Python 3"
    },
    "language_info": {
      "name": "python"
    },
    "accelerator": "GPU"
  },
  "cells": [
    {
      "cell_type": "markdown",
      "metadata": {
        "id": "view-in-github",
        "colab_type": "text"
      },
      "source": [
        "<a href=\"https://colab.research.google.com/github/KevinTheRainmaker/High_Performance_Computing/blob/main/matrix_multiplication_GPU_vs_CPU.ipynb\" target=\"_parent\"><img src=\"https://colab.research.google.com/assets/colab-badge.svg\" alt=\"Open In Colab\"/></a>"
      ]
    },
    {
      "cell_type": "code",
      "metadata": {
        "colab": {
          "base_uri": "https://localhost:8080/"
        },
        "id": "4HpwuCdvQ2eo",
        "outputId": "05437f8f-2033-40f5-f035-5ab8f56cfa81"
      },
      "source": [
        "!pip install git+git://github.com/andreinechaev/nvcc4jupyter.git"
      ],
      "execution_count": 2,
      "outputs": [
        {
          "output_type": "stream",
          "text": [
            "Collecting git+git://github.com/andreinechaev/nvcc4jupyter.git\n",
            "  Cloning git://github.com/andreinechaev/nvcc4jupyter.git to /tmp/pip-req-build-kvuvf_jz\n",
            "  Running command git clone -q git://github.com/andreinechaev/nvcc4jupyter.git /tmp/pip-req-build-kvuvf_jz\n",
            "Building wheels for collected packages: NVCCPlugin\n",
            "  Building wheel for NVCCPlugin (setup.py) ... \u001b[?25l\u001b[?25hdone\n",
            "  Created wheel for NVCCPlugin: filename=NVCCPlugin-0.0.2-py3-none-any.whl size=4306 sha256=947c707669dd521d28e293baef4d947de23246f03e82de349c9ba8fc32f5cb1f\n",
            "  Stored in directory: /tmp/pip-ephem-wheel-cache-dw1ax4b3/wheels/c5/2b/c0/87008e795a14bbcdfc7c846a00d06981916331eb980b6c8bdf\n",
            "Successfully built NVCCPlugin\n",
            "Installing collected packages: NVCCPlugin\n",
            "Successfully installed NVCCPlugin-0.0.2\n"
          ],
          "name": "stdout"
        }
      ]
    },
    {
      "cell_type": "code",
      "metadata": {
        "colab": {
          "base_uri": "https://localhost:8080/"
        },
        "id": "Y8jRCs0wRDtN",
        "outputId": "34b54122-23e6-4987-bd0c-56ba2e1bf936"
      },
      "source": [
        "%load_ext nvcc_plugin"
      ],
      "execution_count": 3,
      "outputs": [
        {
          "output_type": "stream",
          "text": [
            "created output directory at /content/src\n",
            "Out bin /content/result.out\n"
          ],
          "name": "stdout"
        }
      ]
    },
    {
      "cell_type": "code",
      "metadata": {
        "colab": {
          "base_uri": "https://localhost:8080/"
        },
        "id": "J9-Wr9DwNARs",
        "outputId": "789609f3-02da-4fbc-88b3-836ac960aac3"
      },
      "source": [
        "%%cu\n",
        "\n",
        "#include <stdio.h>\n",
        "#include <stdlib.h>\n",
        "#include <assert.h>\n",
        "#include<time.h>\n",
        "\n",
        "#define BLOCK_SIZE 16\n",
        "\n",
        "//GPU Ver.\n",
        "__global__ void gpu_matrix_mult(int *d_a, int *d_b, int *d_result, int m){\n",
        "    __shared__ int tile_a[BLOCK_SIZE][BLOCK_SIZE];\n",
        "    __shared__ int tile_b[BLOCK_SIZE][BLOCK_SIZE];\n",
        "\n",
        "    int row = blockIdx.y * BLOCK_SIZE + threadIdx.y;\n",
        "    int col = blockIdx.x * BLOCK_SIZE + threadIdx.x;\n",
        "    int tmp = 0;\n",
        "    int idx;\n",
        "\n",
        "    for (int sub = 0; sub < gridDim.x; ++sub){\n",
        "        idx = row * m + sub * BLOCK_SIZE + threadIdx.x;\n",
        "\n",
        "        if(idx >= m*m){\n",
        "            tile_a[threadIdx.y][threadIdx.x] = 0;\n",
        "        }\n",
        "        else{\n",
        "            tile_a[threadIdx.y][threadIdx.x] = d_a[idx];\n",
        "        }\n",
        "\n",
        "        idx = (sub * BLOCK_SIZE + threadIdx.y) * m + col;\n",
        "\n",
        "        if(idx >= m*m){\n",
        "            tile_b[threadIdx.y][threadIdx.x] = 0;\n",
        "        }\n",
        "        else{\n",
        "            tile_b[threadIdx.y][threadIdx.x] = d_b[idx];\n",
        "        }\n",
        "\n",
        "        __syncthreads();\n",
        "\n",
        "        for (int k = 0; k < BLOCK_SIZE; ++k){\n",
        "            tmp += tile_a[threadIdx.y][k] * tile_b[k][threadIdx.x];\n",
        "        }\n",
        "\n",
        "        __syncthreads();\n",
        "    }\n",
        "\n",
        "    if(row < m && col < m){\n",
        "        d_result[row * m + col] = tmp;\n",
        "    }\n",
        "}\n",
        "\n",
        "// CPU Ver.\n",
        "void cpu_matrix_mult(int *h_a, int *h_b, int *h_result, int m) {\n",
        "    for (int i = 0; i < m; ++i){\n",
        "        for (int j = 0; j < m; ++j){\n",
        "            int tmp = 0.0;\n",
        "            for (int h = 0; h < m; ++h){\n",
        "                tmp += h_a[i * m + h] * h_b[h * m + j];\n",
        "            }\n",
        "            h_result[i * m + j] = tmp;\n",
        "        }\n",
        "    }\n",
        "}\n",
        "\n",
        "int main(int argc, char const *argv[]){\n",
        "    int m = 1024;\n",
        "    srand((unsigned)time(NULL));\n",
        "\n",
        "    // allocate device memory \n",
        "    int *h_a, *h_b, *h_c, *h_cc;\n",
        "    cudaMallocHost((void **) &h_a, sizeof(int)*m*m);\n",
        "    cudaMallocHost((void **) &h_b, sizeof(int)*m*m);\n",
        "    cudaMallocHost((void **) &h_c, sizeof(int)*m*m);\n",
        "    cudaMallocHost((void **) &h_cc, sizeof(int)*m*m);\n",
        "\n",
        "    // random initialize matrix A\n",
        "    for (int i = 0; i < m; ++i) {\n",
        "        for (int j = 0; j < m; ++j) {\n",
        "            h_a[i * m + j] = rand() % 1024;\n",
        "        }\n",
        "    }\n",
        "\n",
        "    // random initialize matrix B\n",
        "    for (int i = 0; i < m; ++i) {\n",
        "        for (int j = 0; j < m; ++j) {\n",
        "            h_b[i * m + j] = rand() % 1024;\n",
        "        }\n",
        "    }\n",
        "\n",
        "    float gpu_elapsed_time_ms, cpu_elapsed_time_ms;\n",
        "\n",
        "    // events to count the execution time\n",
        "    cudaEvent_t start, stop;\n",
        "    cudaEventCreate(&start);\n",
        "    cudaEventCreate(&stop);\n",
        "\n",
        "    // start to count execution time of GPU version\n",
        "    cudaEventRecord(start, 0);\n",
        "    \n",
        "    // allocate device memory \n",
        "    int *d_a, *d_b, *d_c;\n",
        "    cudaMalloc((void **) &d_a, sizeof(int)*m*m);\n",
        "    cudaMalloc((void **) &d_b, sizeof(int)*m*m);\n",
        "    cudaMalloc((void **) &d_c, sizeof(int)*m*m);\n",
        "\n",
        "    // transfer data from host to device memory\n",
        "    cudaMemcpy(d_a, h_a, sizeof(int)*m*m, cudaMemcpyHostToDevice);\n",
        "    cudaMemcpy(d_b, h_b, sizeof(int)*m*m, cudaMemcpyHostToDevice);\n",
        "\n",
        "    unsigned int grid_rows = (m + BLOCK_SIZE - 1) / BLOCK_SIZE;\n",
        "    unsigned int grid_cols = (m + BLOCK_SIZE - 1) / BLOCK_SIZE;\n",
        "    dim3 dimGrid(grid_cols, grid_rows);\n",
        "    dim3 dimBlock(BLOCK_SIZE, BLOCK_SIZE);\n",
        "   \n",
        "    // call function: GPU\n",
        "    gpu_matrix_mult<<<dimGrid, dimBlock>>>(d_a, d_b, d_c, m);\n",
        "\n",
        "    // transfer data from device to host \n",
        "    cudaMemcpy(h_c, d_c, sizeof(int)*m*m, cudaMemcpyDeviceToHost);\n",
        "    cudaThreadSynchronize();\n",
        "\n",
        "    // terminate counting time\n",
        "    cudaEventRecord(stop, 0);\n",
        "    cudaEventSynchronize(stop);\n",
        "\n",
        "    // compute time on GPU\n",
        "    cudaEventElapsedTime(&gpu_elapsed_time_ms, start, stop);\n",
        "    printf(\"Elapsed time on matrix multiplication of A(%dx%d) X B(%dx%d) on GPU: %f ms.\\n\\n\", m, m, m, m, gpu_elapsed_time_ms);\n",
        "\n",
        "    // start to count execution time of CPU version\n",
        "    cudaEventRecord(start, 0);\n",
        "\n",
        "    // call function: CPU\n",
        "    cpu_matrix_mult(h_a, h_b, h_cc, m);\n",
        "\n",
        "    // terminate counting\n",
        "    cudaEventRecord(stop, 0);\n",
        "    cudaEventSynchronize(stop);\n",
        "\n",
        "    // compute time on CPU\n",
        "    cudaEventElapsedTime(&cpu_elapsed_time_ms, start, stop);\n",
        "    printf(\"Elapsed time on matrix multiplication of A(%dx%d) X B(%dx%d) on CPU: %f ms.\\n\\n\", m, m, m, m, cpu_elapsed_time_ms);\n",
        "\n",
        "    // validate results computed by GPU\n",
        "    int same_result = 1;\n",
        "    for (int i = 0; i < m; ++i){\n",
        "        for (int j = 0; j < m; ++j){            \n",
        "            if(h_cc[i*m + j] != h_c[i*m + j]){\n",
        "                same_result = 0;\n",
        "            }\n",
        "        }\n",
        "    }\n",
        "\n",
        "    // roughly compute speedup\n",
        "    if(same_result){\n",
        "        printf(\"Result of GPU and CPU are same.\\n\\nGPU speedup over CPU: %.2fx\", cpu_elapsed_time_ms / gpu_elapsed_time_ms);\n",
        "    }\n",
        "    else{\n",
        "        printf(\"Results are not same.\\n\");\n",
        "    }\n",
        "\n",
        "    // deallocate device memory\n",
        "    cudaFree(d_a);\n",
        "    cudaFree(d_b);\n",
        "    cudaFree(d_c);\n",
        "    cudaFreeHost(h_a);\n",
        "    cudaFreeHost(h_b);\n",
        "    cudaFreeHost(h_c);\n",
        "    cudaFreeHost(h_cc);\n",
        "    return 0;\n",
        "}"
      ],
      "execution_count": 15,
      "outputs": [
        {
          "output_type": "stream",
          "text": [
            "Elapsed time on matrix multiplication of A(1024x1024) X B(1024x1024) on GPU: 7.349728 ms.\n",
            "\n",
            "Elapsed time on matrix multiplication of A(1024x1024) X B(1024x1024) on CPU: 8101.461426 ms.\n",
            "\n",
            "Result of GPU and CPU are same.\n",
            "\n",
            "GPU speedup over CPU: 1102.28x\n"
          ],
          "name": "stdout"
        }
      ]
    },
    {
      "cell_type": "code",
      "metadata": {
        "id": "1pst5fSoRJVK"
      },
      "source": [
        ""
      ],
      "execution_count": null,
      "outputs": []
    }
  ]
}